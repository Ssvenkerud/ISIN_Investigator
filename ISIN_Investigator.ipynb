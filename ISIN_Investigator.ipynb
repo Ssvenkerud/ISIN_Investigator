{
 "cells": [
  {
   "cell_type": "markdown",
   "metadata": {},
   "source": [
    "# ISIN Investigator\n",
    "\n",
    "by David Cobbeldick, Laurance Day, Lewyse Lee, Simen Svnkerud\n",
    "\n",
    "## Purpose\n",
    "Bildt as a step in the quality assurance work within a larger pipline of work. \n",
    "This notebook took a bespoke input and outputted an indepth investigation into a given unit of analysis.\n",
    "This notebook is reproduced as part of a portfolio of work and has thus been \"anonymised\""
   ]
  },
  {
   "cell_type": "code",
   "execution_count": 1,
   "metadata": {
    "collapsed": true
   },
   "outputs": [],
   "source": [
    "import pandas as pd\n",
    "import numpy as np\n",
    "import os\n",
    "import json\n",
    "from pprint import pprint\n",
    "import numpy as np\n",
    "import itertools\n",
    "import random\n",
    "import matplotlib.pyplot as plt\n",
    "import seaborn as sns\n",
    "from mpl_toolkits.axes_grid1 import host_subplot\n",
    "import mpl_toolkits.axisartist as AA"
   ]
  },
  {
   "cell_type": "code",
   "execution_count": 2,
   "metadata": {
    "collapsed": true
   },
   "outputs": [],
   "source": [
    "%matplotlib inline"
   ]
  },
  {
   "cell_type": "code",
   "execution_count": 3,
   "metadata": {
    "collapsed": true
   },
   "outputs": [],
   "source": [
    "sns.set(style=\"darkgrid\")"
   ]
  },
  {
   "cell_type": "code",
   "execution_count": 4,
   "metadata": {
    "collapsed": true
   },
   "outputs": [],
   "source": [
    "LookUp = \"4122025\""
   ]
  },
  {
   "cell_type": "code",
   "execution_count": 5,
   "metadata": {
    "collapsed": true
   },
   "outputs": [],
   "source": [
    "FA_Instruments = 'F511'"
   ]
  },
  {
   "cell_type": "code",
   "execution_count": 6,
   "metadata": {
    "collapsed": true,
    "scrolled": true
   },
   "outputs": [],
   "source": [
    "os.chdir('wdr')"
   ]
  },
  {
   "cell_type": "code",
   "execution_count": 7,
   "metadata": {
    "collapsed": true
   },
   "outputs": [],
   "source": [
    "Output_Path = r'\\Data'\n",
    "with open(r'Data\\QA_Viewer.json') as f:\n",
    "    data = json.loads(\"[\" + \n",
    "        f.read().replace(\"}\\n{\", \"},\\n{\") + \n",
    "    \"]\")\n",
    "    "
   ]
  },
  {
   "cell_type": "markdown",
   "metadata": {},
   "source": [
    "# Processing data\n",
    "## Processing for Individual Securities"
   ]
  },
  {
   "cell_type": "code",
   "execution_count": 8,
   "metadata": {
    "collapsed": true
   },
   "outputs": [],
   "source": [
    "df = pd.DataFrame()"
   ]
  },
  {
   "cell_type": "code",
   "execution_count": 9,
   "metadata": {},
   "outputs": [
    {
     "data": {
      "text/html": [
       "<div>\n",
       "<style>\n",
       "    .dataframe thead tr:only-child th {\n",
       "        text-align: right;\n",
       "    }\n",
       "\n",
       "    .dataframe thead th {\n",
       "        text-align: left;\n",
       "    }\n",
       "\n",
       "    .dataframe tbody tr th {\n",
       "        vertical-align: top;\n",
       "    }\n",
       "</style>\n",
       "<table border=\"1\" class=\"dataframe\">\n",
       "  <thead>\n",
       "    <tr style=\"text-align: right;\">\n",
       "      <th></th>\n",
       "    </tr>\n",
       "  </thead>\n",
       "  <tbody>\n",
       "  </tbody>\n",
       "</table>\n",
       "</div>"
      ],
      "text/plain": [
       "Empty DataFrame\n",
       "Columns: []\n",
       "Index: []"
      ]
     },
     "execution_count": 9,
     "metadata": {},
     "output_type": "execute_result"
    }
   ],
   "source": [
    "df.head()"
   ]
  },
  {
   "cell_type": "code",
   "execution_count": 10,
   "metadata": {
    "collapsed": true
   },
   "outputs": [],
   "source": [
    "Ref_Cols = ['Security_Id', 'Quarter']\n",
    "List_Cols = ['UK_Owners', \n",
    "             'UK_Owners_Shares_Held', \n",
    "             'UK_Owners_Value_Held',\n",
    "             'NonUK_Owners',\n",
    "             'NonUK_Owners_Shares_Held',\n",
    "             'NonUK_Owners_Value_Held']\n",
    "Float_Cols = [x for x in list(df) if x not in Ref_Cols+List_Cols]"
   ]
  },
  {
   "cell_type": "code",
   "execution_count": 11,
   "metadata": {},
   "outputs": [
    {
     "ename": "KeyError",
     "evalue": "'Security_Id'",
     "output_type": "error",
     "traceback": [
      "\u001b[1;31m---------------------------------------------------------------------------\u001b[0m",
      "\u001b[1;31mKeyError\u001b[0m                                  Traceback (most recent call last)",
      "\u001b[1;32mC:\\Python36\\lib\\site-packages\\pandas\\core\\indexes\\base.py\u001b[0m in \u001b[0;36mget_loc\u001b[1;34m(self, key, method, tolerance)\u001b[0m\n\u001b[0;32m   2392\u001b[0m             \u001b[1;32mtry\u001b[0m\u001b[1;33m:\u001b[0m\u001b[1;33m\u001b[0m\u001b[0m\n\u001b[1;32m-> 2393\u001b[1;33m                 \u001b[1;32mreturn\u001b[0m \u001b[0mself\u001b[0m\u001b[1;33m.\u001b[0m\u001b[0m_engine\u001b[0m\u001b[1;33m.\u001b[0m\u001b[0mget_loc\u001b[0m\u001b[1;33m(\u001b[0m\u001b[0mkey\u001b[0m\u001b[1;33m)\u001b[0m\u001b[1;33m\u001b[0m\u001b[0m\n\u001b[0m\u001b[0;32m   2394\u001b[0m             \u001b[1;32mexcept\u001b[0m \u001b[0mKeyError\u001b[0m\u001b[1;33m:\u001b[0m\u001b[1;33m\u001b[0m\u001b[0m\n",
      "\u001b[1;32mpandas\\_libs\\index.pyx\u001b[0m in \u001b[0;36mpandas._libs.index.IndexEngine.get_loc (pandas\\_libs\\index.c:5239)\u001b[1;34m()\u001b[0m\n",
      "\u001b[1;32mpandas\\_libs\\index.pyx\u001b[0m in \u001b[0;36mpandas._libs.index.IndexEngine.get_loc (pandas\\_libs\\index.c:5085)\u001b[1;34m()\u001b[0m\n",
      "\u001b[1;32mpandas\\_libs\\hashtable_class_helper.pxi\u001b[0m in \u001b[0;36mpandas._libs.hashtable.PyObjectHashTable.get_item (pandas\\_libs\\hashtable.c:20405)\u001b[1;34m()\u001b[0m\n",
      "\u001b[1;32mpandas\\_libs\\hashtable_class_helper.pxi\u001b[0m in \u001b[0;36mpandas._libs.hashtable.PyObjectHashTable.get_item (pandas\\_libs\\hashtable.c:20359)\u001b[1;34m()\u001b[0m\n",
      "\u001b[1;31mKeyError\u001b[0m: 'Security_Id'",
      "\nDuring handling of the above exception, another exception occurred:\n",
      "\u001b[1;31mKeyError\u001b[0m                                  Traceback (most recent call last)",
      "\u001b[1;32m<ipython-input-11-e26839dfd064>\u001b[0m in \u001b[0;36m<module>\u001b[1;34m()\u001b[0m\n\u001b[1;32m----> 1\u001b[1;33m \u001b[0mSIDs\u001b[0m \u001b[1;33m=\u001b[0m \u001b[0mlist\u001b[0m\u001b[1;33m(\u001b[0m\u001b[0mset\u001b[0m\u001b[1;33m(\u001b[0m\u001b[0mdf\u001b[0m\u001b[1;33m[\u001b[0m\u001b[1;34m'Security_Id'\u001b[0m\u001b[1;33m]\u001b[0m\u001b[1;33m)\u001b[0m\u001b[1;33m)\u001b[0m\u001b[1;33m\u001b[0m\u001b[0m\n\u001b[0m\u001b[0;32m      2\u001b[0m \u001b[1;33m\u001b[0m\u001b[0m\n\u001b[0;32m      3\u001b[0m \u001b[1;31m#LookUp = random.choice(SIDs)\u001b[0m\u001b[1;33m\u001b[0m\u001b[1;33m\u001b[0m\u001b[0m\n\u001b[0;32m      4\u001b[0m \u001b[1;33m\u001b[0m\u001b[0m\n\u001b[0;32m      5\u001b[0m \u001b[0mLookUp_df\u001b[0m \u001b[1;33m=\u001b[0m \u001b[0mdf\u001b[0m\u001b[1;33m[\u001b[0m\u001b[0mdf\u001b[0m\u001b[1;33m[\u001b[0m\u001b[1;34m'Security_Id'\u001b[0m\u001b[1;33m]\u001b[0m\u001b[1;33m==\u001b[0m\u001b[0mLookUp\u001b[0m\u001b[1;33m]\u001b[0m                \u001b[1;33m.\u001b[0m\u001b[0msort_values\u001b[0m\u001b[1;33m(\u001b[0m\u001b[1;34m'Quarter'\u001b[0m\u001b[1;33m,\u001b[0m \u001b[0mascending\u001b[0m\u001b[1;33m=\u001b[0m\u001b[1;32mTrue\u001b[0m\u001b[1;33m)\u001b[0m                \u001b[1;33m.\u001b[0m\u001b[0mset_index\u001b[0m\u001b[1;33m(\u001b[0m\u001b[1;34m'Quarter'\u001b[0m\u001b[1;33m,\u001b[0m \u001b[0mdrop\u001b[0m\u001b[1;33m=\u001b[0m\u001b[1;32mTrue\u001b[0m\u001b[1;33m)\u001b[0m\u001b[1;33m\u001b[0m\u001b[0m\n",
      "\u001b[1;32mC:\\Python36\\lib\\site-packages\\pandas\\core\\frame.py\u001b[0m in \u001b[0;36m__getitem__\u001b[1;34m(self, key)\u001b[0m\n\u001b[0;32m   2060\u001b[0m             \u001b[1;32mreturn\u001b[0m \u001b[0mself\u001b[0m\u001b[1;33m.\u001b[0m\u001b[0m_getitem_multilevel\u001b[0m\u001b[1;33m(\u001b[0m\u001b[0mkey\u001b[0m\u001b[1;33m)\u001b[0m\u001b[1;33m\u001b[0m\u001b[0m\n\u001b[0;32m   2061\u001b[0m         \u001b[1;32melse\u001b[0m\u001b[1;33m:\u001b[0m\u001b[1;33m\u001b[0m\u001b[0m\n\u001b[1;32m-> 2062\u001b[1;33m             \u001b[1;32mreturn\u001b[0m \u001b[0mself\u001b[0m\u001b[1;33m.\u001b[0m\u001b[0m_getitem_column\u001b[0m\u001b[1;33m(\u001b[0m\u001b[0mkey\u001b[0m\u001b[1;33m)\u001b[0m\u001b[1;33m\u001b[0m\u001b[0m\n\u001b[0m\u001b[0;32m   2063\u001b[0m \u001b[1;33m\u001b[0m\u001b[0m\n\u001b[0;32m   2064\u001b[0m     \u001b[1;32mdef\u001b[0m \u001b[0m_getitem_column\u001b[0m\u001b[1;33m(\u001b[0m\u001b[0mself\u001b[0m\u001b[1;33m,\u001b[0m \u001b[0mkey\u001b[0m\u001b[1;33m)\u001b[0m\u001b[1;33m:\u001b[0m\u001b[1;33m\u001b[0m\u001b[0m\n",
      "\u001b[1;32mC:\\Python36\\lib\\site-packages\\pandas\\core\\frame.py\u001b[0m in \u001b[0;36m_getitem_column\u001b[1;34m(self, key)\u001b[0m\n\u001b[0;32m   2067\u001b[0m         \u001b[1;31m# get column\u001b[0m\u001b[1;33m\u001b[0m\u001b[1;33m\u001b[0m\u001b[0m\n\u001b[0;32m   2068\u001b[0m         \u001b[1;32mif\u001b[0m \u001b[0mself\u001b[0m\u001b[1;33m.\u001b[0m\u001b[0mcolumns\u001b[0m\u001b[1;33m.\u001b[0m\u001b[0mis_unique\u001b[0m\u001b[1;33m:\u001b[0m\u001b[1;33m\u001b[0m\u001b[0m\n\u001b[1;32m-> 2069\u001b[1;33m             \u001b[1;32mreturn\u001b[0m \u001b[0mself\u001b[0m\u001b[1;33m.\u001b[0m\u001b[0m_get_item_cache\u001b[0m\u001b[1;33m(\u001b[0m\u001b[0mkey\u001b[0m\u001b[1;33m)\u001b[0m\u001b[1;33m\u001b[0m\u001b[0m\n\u001b[0m\u001b[0;32m   2070\u001b[0m \u001b[1;33m\u001b[0m\u001b[0m\n\u001b[0;32m   2071\u001b[0m         \u001b[1;31m# duplicate columns & possible reduce dimensionality\u001b[0m\u001b[1;33m\u001b[0m\u001b[1;33m\u001b[0m\u001b[0m\n",
      "\u001b[1;32mC:\\Python36\\lib\\site-packages\\pandas\\core\\generic.py\u001b[0m in \u001b[0;36m_get_item_cache\u001b[1;34m(self, item)\u001b[0m\n\u001b[0;32m   1532\u001b[0m         \u001b[0mres\u001b[0m \u001b[1;33m=\u001b[0m \u001b[0mcache\u001b[0m\u001b[1;33m.\u001b[0m\u001b[0mget\u001b[0m\u001b[1;33m(\u001b[0m\u001b[0mitem\u001b[0m\u001b[1;33m)\u001b[0m\u001b[1;33m\u001b[0m\u001b[0m\n\u001b[0;32m   1533\u001b[0m         \u001b[1;32mif\u001b[0m \u001b[0mres\u001b[0m \u001b[1;32mis\u001b[0m \u001b[1;32mNone\u001b[0m\u001b[1;33m:\u001b[0m\u001b[1;33m\u001b[0m\u001b[0m\n\u001b[1;32m-> 1534\u001b[1;33m             \u001b[0mvalues\u001b[0m \u001b[1;33m=\u001b[0m \u001b[0mself\u001b[0m\u001b[1;33m.\u001b[0m\u001b[0m_data\u001b[0m\u001b[1;33m.\u001b[0m\u001b[0mget\u001b[0m\u001b[1;33m(\u001b[0m\u001b[0mitem\u001b[0m\u001b[1;33m)\u001b[0m\u001b[1;33m\u001b[0m\u001b[0m\n\u001b[0m\u001b[0;32m   1535\u001b[0m             \u001b[0mres\u001b[0m \u001b[1;33m=\u001b[0m \u001b[0mself\u001b[0m\u001b[1;33m.\u001b[0m\u001b[0m_box_item_values\u001b[0m\u001b[1;33m(\u001b[0m\u001b[0mitem\u001b[0m\u001b[1;33m,\u001b[0m \u001b[0mvalues\u001b[0m\u001b[1;33m)\u001b[0m\u001b[1;33m\u001b[0m\u001b[0m\n\u001b[0;32m   1536\u001b[0m             \u001b[0mcache\u001b[0m\u001b[1;33m[\u001b[0m\u001b[0mitem\u001b[0m\u001b[1;33m]\u001b[0m \u001b[1;33m=\u001b[0m \u001b[0mres\u001b[0m\u001b[1;33m\u001b[0m\u001b[0m\n",
      "\u001b[1;32mC:\\Python36\\lib\\site-packages\\pandas\\core\\internals.py\u001b[0m in \u001b[0;36mget\u001b[1;34m(self, item, fastpath)\u001b[0m\n\u001b[0;32m   3588\u001b[0m \u001b[1;33m\u001b[0m\u001b[0m\n\u001b[0;32m   3589\u001b[0m             \u001b[1;32mif\u001b[0m \u001b[1;32mnot\u001b[0m \u001b[0misnull\u001b[0m\u001b[1;33m(\u001b[0m\u001b[0mitem\u001b[0m\u001b[1;33m)\u001b[0m\u001b[1;33m:\u001b[0m\u001b[1;33m\u001b[0m\u001b[0m\n\u001b[1;32m-> 3590\u001b[1;33m                 \u001b[0mloc\u001b[0m \u001b[1;33m=\u001b[0m \u001b[0mself\u001b[0m\u001b[1;33m.\u001b[0m\u001b[0mitems\u001b[0m\u001b[1;33m.\u001b[0m\u001b[0mget_loc\u001b[0m\u001b[1;33m(\u001b[0m\u001b[0mitem\u001b[0m\u001b[1;33m)\u001b[0m\u001b[1;33m\u001b[0m\u001b[0m\n\u001b[0m\u001b[0;32m   3591\u001b[0m             \u001b[1;32melse\u001b[0m\u001b[1;33m:\u001b[0m\u001b[1;33m\u001b[0m\u001b[0m\n\u001b[0;32m   3592\u001b[0m                 \u001b[0mindexer\u001b[0m \u001b[1;33m=\u001b[0m \u001b[0mnp\u001b[0m\u001b[1;33m.\u001b[0m\u001b[0marange\u001b[0m\u001b[1;33m(\u001b[0m\u001b[0mlen\u001b[0m\u001b[1;33m(\u001b[0m\u001b[0mself\u001b[0m\u001b[1;33m.\u001b[0m\u001b[0mitems\u001b[0m\u001b[1;33m)\u001b[0m\u001b[1;33m)\u001b[0m\u001b[1;33m[\u001b[0m\u001b[0misnull\u001b[0m\u001b[1;33m(\u001b[0m\u001b[0mself\u001b[0m\u001b[1;33m.\u001b[0m\u001b[0mitems\u001b[0m\u001b[1;33m)\u001b[0m\u001b[1;33m]\u001b[0m\u001b[1;33m\u001b[0m\u001b[0m\n",
      "\u001b[1;32mC:\\Python36\\lib\\site-packages\\pandas\\core\\indexes\\base.py\u001b[0m in \u001b[0;36mget_loc\u001b[1;34m(self, key, method, tolerance)\u001b[0m\n\u001b[0;32m   2393\u001b[0m                 \u001b[1;32mreturn\u001b[0m \u001b[0mself\u001b[0m\u001b[1;33m.\u001b[0m\u001b[0m_engine\u001b[0m\u001b[1;33m.\u001b[0m\u001b[0mget_loc\u001b[0m\u001b[1;33m(\u001b[0m\u001b[0mkey\u001b[0m\u001b[1;33m)\u001b[0m\u001b[1;33m\u001b[0m\u001b[0m\n\u001b[0;32m   2394\u001b[0m             \u001b[1;32mexcept\u001b[0m \u001b[0mKeyError\u001b[0m\u001b[1;33m:\u001b[0m\u001b[1;33m\u001b[0m\u001b[0m\n\u001b[1;32m-> 2395\u001b[1;33m                 \u001b[1;32mreturn\u001b[0m \u001b[0mself\u001b[0m\u001b[1;33m.\u001b[0m\u001b[0m_engine\u001b[0m\u001b[1;33m.\u001b[0m\u001b[0mget_loc\u001b[0m\u001b[1;33m(\u001b[0m\u001b[0mself\u001b[0m\u001b[1;33m.\u001b[0m\u001b[0m_maybe_cast_indexer\u001b[0m\u001b[1;33m(\u001b[0m\u001b[0mkey\u001b[0m\u001b[1;33m)\u001b[0m\u001b[1;33m)\u001b[0m\u001b[1;33m\u001b[0m\u001b[0m\n\u001b[0m\u001b[0;32m   2396\u001b[0m \u001b[1;33m\u001b[0m\u001b[0m\n\u001b[0;32m   2397\u001b[0m         \u001b[0mindexer\u001b[0m \u001b[1;33m=\u001b[0m \u001b[0mself\u001b[0m\u001b[1;33m.\u001b[0m\u001b[0mget_indexer\u001b[0m\u001b[1;33m(\u001b[0m\u001b[1;33m[\u001b[0m\u001b[0mkey\u001b[0m\u001b[1;33m]\u001b[0m\u001b[1;33m,\u001b[0m \u001b[0mmethod\u001b[0m\u001b[1;33m=\u001b[0m\u001b[0mmethod\u001b[0m\u001b[1;33m,\u001b[0m \u001b[0mtolerance\u001b[0m\u001b[1;33m=\u001b[0m\u001b[0mtolerance\u001b[0m\u001b[1;33m)\u001b[0m\u001b[1;33m\u001b[0m\u001b[0m\n",
      "\u001b[1;32mpandas\\_libs\\index.pyx\u001b[0m in \u001b[0;36mpandas._libs.index.IndexEngine.get_loc (pandas\\_libs\\index.c:5239)\u001b[1;34m()\u001b[0m\n",
      "\u001b[1;32mpandas\\_libs\\index.pyx\u001b[0m in \u001b[0;36mpandas._libs.index.IndexEngine.get_loc (pandas\\_libs\\index.c:5085)\u001b[1;34m()\u001b[0m\n",
      "\u001b[1;32mpandas\\_libs\\hashtable_class_helper.pxi\u001b[0m in \u001b[0;36mpandas._libs.hashtable.PyObjectHashTable.get_item (pandas\\_libs\\hashtable.c:20405)\u001b[1;34m()\u001b[0m\n",
      "\u001b[1;32mpandas\\_libs\\hashtable_class_helper.pxi\u001b[0m in \u001b[0;36mpandas._libs.hashtable.PyObjectHashTable.get_item (pandas\\_libs\\hashtable.c:20359)\u001b[1;34m()\u001b[0m\n",
      "\u001b[1;31mKeyError\u001b[0m: 'Security_Id'"
     ]
    }
   ],
   "source": [
    "SIDs = list(set(df['Security_Id']))\n",
    "\n",
    "#LookUp = random.choice(SIDs)\n",
    "\n",
    "LookUp_df = df[df['Security_Id']==LookUp]\\\n",
    "                .sort_values('Quarter', ascending=True)\\\n",
    "                .set_index('Quarter', drop=True)\n",
    "        \n",
    "LookUp_df.head()"
   ]
  },
  {
   "cell_type": "code",
   "execution_count": null,
   "metadata": {
    "collapsed": true
   },
   "outputs": [],
   "source": [
    "print(LookUp)"
   ]
  },
  {
   "cell_type": "code",
   "execution_count": null,
   "metadata": {
    "collapsed": true
   },
   "outputs": [],
   "source": [
    "for i in Float_Cols:\n",
    "    LookUp_df[i] = pd.to_numeric(LookUp_df[i], errors='coerce')\n",
    "LookUp_df = LookUp_df.fillna(0)\n",
    "\n",
    "Owners_df = LookUp_df[List_Cols].reindex()"
   ]
  },
  {
   "cell_type": "code",
   "execution_count": null,
   "metadata": {
    "collapsed": true
   },
   "outputs": [],
   "source": [
    "for i in list(Owners_df):\n",
    "    Owners_df[i] = [x if x!=0\\\n",
    "                   else [] for x in Owners_df[i].tolist()]"
   ]
  },
  {
   "cell_type": "code",
   "execution_count": null,
   "metadata": {
    "collapsed": true
   },
   "outputs": [],
   "source": [
    "UK_Owners_Count = [len(x) for x in Owners_df['UK_Owners'].tolist()]\n",
    "NonUK_Owners_Count = [len(x) for x in Owners_df['NonUK_Owners'].tolist()]\n",
    "\n",
    "LookUp_df = LookUp_df[[x for x in list(LookUp_df)\\\n",
    "                       if x not in List_Cols+['Security_Id']]]"
   ]
  },
  {
   "cell_type": "code",
   "execution_count": null,
   "metadata": {
    "collapsed": true
   },
   "outputs": [],
   "source": [
    "LookUp_df['Issuer_Price'] = LookUp_df['Mkt_Cap']/LookUp_df['Shares_Outstanding']\n",
    "LookUp_df['Total_Value_Held'] = LookUp_df['UK_Value_Held']+LookUp_df['NonUK_Value_Held']\n",
    "LookUp_df['Total_Shares_Held'] = LookUp_df['UK_Shares_Held']+LookUp_df['NonUK_Shares_Held']\n",
    "LookUp_df['Owner_Price'] = LookUp_df['Total_Value_Held']/LookUp_df['Total_Shares_Held']\n",
    "LookUp_df['UK_Coverage'] = (LookUp_df['UK_Value_Held']/LookUp_df['Mkt_Cap'])*100\n",
    "LookUp_df['NonUK_Coverage'] = (LookUp_df['NonUK_Value_Held']/LookUp_df['Mkt_Cap'])*100\n",
    "LookUp_df['Total_Value_Coverage'] =  (LookUp_df['Total_Value_Held']/LookUp_df['Mkt_Cap'])*100\n",
    "LookUp_df['Total_Shares_Coverage'] = (LookUp_df['Total_Shares_Held']/LookUp_df['Shares_Outstanding'])*100\n",
    "LookUp_df['UK_Owners'] = UK_Owners_Count\n",
    "LookUp_df['NonUK_Owners'] = NonUK_Owners_Count\n",
    "LookUp_df['Total_Owners'] = LookUp_df['UK_Owners']+LookUp_df['NonUK_Owners']\n",
    "LookUp_df['UK_Value_Held_Calc'] = LookUp_df['UK_Shares_Held']*LookUp_df['Issuer_Price']\n",
    "LookUp_df['NonUK_Value_Held_Calc'] = LookUp_df['NonUK_Shares_Held']*LookUp_df['Issuer_Price']\n",
    "LookUp_df['Total_Value_Held_Calc'] = LookUp_df['NonUK_Value_Held_Calc']+LookUp_df['UK_Value_Held_Calc']\n",
    "   \n",
    "LookUp_df = LookUp_df[['Issuer_Price',\n",
    "                 'Owner_Price',\n",
    "                 'Mkt_Cap',\n",
    "                 'Shares_Outstanding',\n",
    "                 'UK_Value_Held',\n",
    "                 'NonUK_Value_Held',\n",
    "                 'Total_Value_Held',\n",
    "                 'UK_Shares_Held',\n",
    "                 'NonUK_Shares_Held',\n",
    "                 'Total_Shares_Held',\n",
    "                 'UK_Coverage',\n",
    "                 'NonUK_Coverage',\n",
    "                 'Total_Value_Coverage',\n",
    "                 'Total_Shares_Coverage',\n",
    "                 'UK_Owners',\n",
    "                 'NonUK_Owners',\n",
    "                 'Total_Owners',\n",
    "                 'UK_Value_Held_Calc',\n",
    "                'NonUK_Value_Held_Calc',\n",
    "                      'Total_Value_Held_Calc']]"
   ]
  },
  {
   "cell_type": "code",
   "execution_count": null,
   "metadata": {
    "collapsed": true
   },
   "outputs": [],
   "source": [
    "#=============================================================================\n",
    "'''Owner Breakdowns'''\n",
    "#=============================================================================\n",
    "\n",
    "if sum(UK_Owners_Count)>0:\n",
    "\n",
    "    UK_Owner_List = Owners_df['UK_Owners'].tolist()\n",
    "    UK_Owner_List = [x for x in UK_Owner_List if len(x)>0]\n",
    "    UK_Owner_List = [val for sublist in UK_Owner_List for val in sublist]\n",
    "    UK_Owner_List = list(set(UK_Owner_List))\n",
    "    UK_Owner_df = pd.DataFrame({'UK_Owners':UK_Owner_List})\n",
    "    \n",
    "    UK_Owners_SH = UK_Owner_df.reindex()\n",
    "    UK_Owners_VH = UK_Owner_df.reindex()\n",
    "\n",
    "    for i in Owners_df.index.tolist():\n",
    "    \n",
    "    # UK Shares Held per Owner DataFrame\n",
    "        if len(Owners_df.at[i,'UK_Owners'])>0:\n",
    "            UK_SH = pd.DataFrame({'UK_Owners':Owners_df.at[i,'UK_Owners'],\\\n",
    "                                  'SH':Owners_df.at[i,'UK_Owners_Shares_Held']})\n",
    "            UK_SH = UK_SH.rename(columns = {'SH':i})\n",
    "            UK_Owners_SH = UK_Owners_SH.merge(UK_SH, on='UK_Owners', how='left')\\\n",
    "            .drop_duplicates(subset='UK_Owners')\n",
    "        elif len(Owners_df.at[i,'UK_Owners'])==0:\n",
    "            UK_Owners_SH[i] = np.nan\n",
    "     \n",
    "    # UK Value Held per Owner DataFrame\n",
    "        if len(Owners_df.at[i,'UK_Owners'])>0:\n",
    "            UK_VH = pd.DataFrame({'UK_Owners':Owners_df.at[i,'UK_Owners'],\\\n",
    "                                  'VH':Owners_df.at[i,'UK_Owners_Value_Held']})\n",
    "            UK_VH = UK_VH.rename(columns = {'VH':i})\n",
    "            UK_Owners_VH = UK_Owners_VH.merge(UK_VH, on='UK_Owners', how='left')\\\n",
    "            .drop_duplicates(subset='UK_Owners')\n",
    "        elif len(Owners_df.at[i,'UK_Owners'])==0:\n",
    "            UK_Owners_VH[i] = np.nan\n",
    "    \n",
    "    UK_Owners_SH = UK_Owners_SH.set_index('UK_Owners', drop=True)               \n",
    "    UK_Owners_SH = UK_Owners_SH.transpose()    \n",
    "    UK_Owners_VH = UK_Owners_VH.set_index('UK_Owners', drop=True)\n",
    "    UK_Owners_VH = UK_Owners_VH.transpose()\n",
    "        \n",
    "else:\n",
    "    UK_Owners_SH = None\n",
    "    UK_Owners_VH = None\n",
    "\n",
    "\n"
   ]
  },
  {
   "cell_type": "code",
   "execution_count": null,
   "metadata": {
    "collapsed": true
   },
   "outputs": [],
   "source": [
    "if sum(NonUK_Owners_Count)>0:\n",
    "\n",
    "    NonUK_Owner_List = Owners_df['NonUK_Owners'].tolist()\n",
    "    NonUK_Owner_List = [x for x in NonUK_Owner_List if len(x)>0]\n",
    "    NonUK_Owner_List = [val for sublist in NonUK_Owner_List for val in sublist]\n",
    "    UK_Owner_List = list(set(NonUK_Owner_List))\n",
    "    NonUK_Owner_df = pd.DataFrame({'NonUK_Owners':NonUK_Owner_List})\n",
    "    \n",
    "    NonUK_Owners_SH = NonUK_Owner_df.reindex()\n",
    "    NonUK_Owners_VH = NonUK_Owner_df.reindex()\n",
    "\n",
    "    for i in Owners_df.index.tolist():\n",
    "        \n",
    "    # NonUK Shares Held per Owner DataFrame\n",
    "        if len(Owners_df.at[i,'NonUK_Owners'])>0:\n",
    "            NonUK_SH = pd.DataFrame({'NonUK_Owners':Owners_df.at[i,'NonUK_Owners'],\\\n",
    "                                  'SH':Owners_df.at[i,'NonUK_Owners_Shares_Held']})\n",
    "            NonUK_SH = NonUK_SH.rename(columns = {'SH':i})\n",
    "            NonUK_Owners_SH = NonUK_Owners_SH.merge(NonUK_SH, on='NonUK_Owners', how='left')\\\n",
    "            .drop_duplicates(subset='NonUK_Owners')\n",
    "        elif len(Owners_df.at[i,'NonUK_Owners'])==0:\n",
    "            NonUK_Owners_SH[i] = np.nan \n",
    "\n",
    "    # NonUK Shares Held per Owner DataFrame    \n",
    "        if len(Owners_df.at[i,'NonUK_Owners'])>0:\n",
    "            NonUK_VH = pd.DataFrame({'NonUK_Owners':Owners_df.at[i,'NonUK_Owners'],\\\n",
    "                                  'VH':Owners_df.at[i,'NonUK_Owners_Value_Held']})\n",
    "            NonUK_VH = NonUK_VH.rename(columns = {'VH':i})\n",
    "            NonUK_Owners_VH = NonUK_Owners_VH.merge(NonUK_VH, on='NonUK_Owners', how='left')\\\n",
    "            .drop_duplicates(subset='NonUK_Owners')\n",
    "        elif len(Owners_df.at[i,'NonUK_Owners'])==0:\n",
    "            NonUK_Owners_VH[i] = np.nan\n",
    "    \n",
    "    NonUK_Owners_SH = NonUK_Owners_SH.set_index('NonUK_Owners', drop=True)\n",
    "    NonUK_Owners_SH = NonUK_Owners_SH.transpose()     \n",
    "    NonUK_Owners_VH = NonUK_Owners_VH.set_index('NonUK_Owners', drop=True)\n",
    "    NonUK_Owners_VH = NonUK_Owners_VH.transpose()\n",
    "else:\n",
    "    NonUK_Owners_SH = None\n",
    "    NonUK_Owners_VH = None\n"
   ]
  },
  {
   "cell_type": "code",
   "execution_count": null,
   "metadata": {
    "collapsed": true
   },
   "outputs": [],
   "source": [
    "if len(UK_Owners_VH) >0:\n",
    "    VH_plot1 = UK_Owners_VH.add_prefix('UK_')\n",
    "if len(NonUK_Owners_VH)>0:\n",
    "    VH_plot2 = NonUK_Owners_VH.add_prefix('Non_UK_')\n",
    "    \n",
    "VH_plot = VH_plot1.join(VH_plot2)"
   ]
  },
  {
   "cell_type": "code",
   "execution_count": null,
   "metadata": {
    "collapsed": true
   },
   "outputs": [],
   "source": [
    "if len(UK_Owners_SH) >0:\n",
    "    SH_plot1 = UK_Owners_SH.add_prefix('UK_')\n",
    "\n",
    "if len(NonUK_Owners_SH)>0:\n",
    "    SH_plot2 = NonUK_Owners_SH.add_prefix('NonUK_')\n",
    "    \n",
    "SH_plot = SH_plot1.join(SH_plot2)"
   ]
  },
  {
   "cell_type": "markdown",
   "metadata": {},
   "source": [
    "# Start of analysis"
   ]
  },
  {
   "cell_type": "markdown",
   "metadata": {},
   "source": [
    "### Set graphing parameters"
   ]
  },
  {
   "cell_type": "code",
   "execution_count": null,
   "metadata": {
    "collapsed": true
   },
   "outputs": [],
   "source": [
    "#Time_Start = \n",
    "#Time_End = "
   ]
  },
  {
   "cell_type": "code",
   "execution_count": null,
   "metadata": {
    "collapsed": true
   },
   "outputs": [],
   "source": [
    "VH_plot.head(20)"
   ]
  },
  {
   "cell_type": "code",
   "execution_count": null,
   "metadata": {
    "collapsed": true
   },
   "outputs": [],
   "source": [
    "plt.figure(1)\n",
    "LookUp_df['Mkt_Cap'].plot.line(figsize=(20,5))\n",
    "plt.legend(ncol=int(len(VH_plot.columns)/5))\n",
    "plt.title('Total Market capitalisation by value')\n",
    "\n",
    "plt.figure(2)\n",
    "VH_plot.plot(kind='bar', stacked = True, color=sns.color_palette(\"spectral\",len(VH_plot.columns), desat=.5),figsize = (20,5), legend = False)\n",
    "#plt.legend(ncol=int(len(VH_plot.columns)/5))\n",
    "plt.xticks(rotation=90)\n",
    "plt.title('Security value owned broken down by Owner ID')\n",
    "plt.show()"
   ]
  },
  {
   "cell_type": "markdown",
   "metadata": {},
   "source": [
    "## Coverage by Value and shares\n",
    "\n",
    "Bellow is a plot giving the ratio of known Issuance and ownership "
   ]
  },
  {
   "cell_type": "code",
   "execution_count": null,
   "metadata": {
    "collapsed": true
   },
   "outputs": [],
   "source": [
    "plt.figure(3)\n",
    "LookUp_df['Total_Value_Coverage'].plot(kind='line', c='r', figsize = (20,5))\n",
    "LookUp_df['Total_Shares_Coverage'].plot(kind='line', figsize = (20,5))\n",
    "plt.legend(ncol=int(len(VH_plot.columns)/5))\n",
    "plt.title('Security Coverage  over time based on value and numer of Shares')\n",
    "plt.show()"
   ]
  },
  {
   "cell_type": "markdown",
   "metadata": {
    "collapsed": true
   },
   "source": [
    "## Price comparison\n",
    "\n",
    "Price over time, as collected from the EOD price history (Issuer_Price), and derived from Thomson reuters value_held/Shares_held.\n",
    "Used for internal QA.\n",
    "\n",
    "Issuer price is plotted here to provide visual for the change in price"
   ]
  },
  {
   "cell_type": "code",
   "execution_count": null,
   "metadata": {
    "collapsed": true,
    "scrolled": true
   },
   "outputs": [],
   "source": [
    "plt.figure(4)\n",
    "LookUp_df['Issuer_Price'].plot(kind='Line', c='g', figsize = (20,5))\n",
    "LookUp_df['Owner_Price'].plot(kind='Line', c='r', figsize = (20,5))\n",
    "plt.title('Share price over time')\n",
    "plt.legend()"
   ]
  },
  {
   "cell_type": "markdown",
   "metadata": {},
   "source": [
    "## Market Cap, Shares Outstanding and Shares held\n",
    "\n",
    "Visual presentation of the effect of price. Level of ownership by count and distribution of UK ROW Share oldership.\n",
    "\n",
    "First plot is a reminder from earlier and plots the total market capitalisation of the security.\n",
    "Secon plot gives total issuance in number shares, total UK owned Shares, Total ROW owned Shares, total known share ownership by numbers.\n",
    "Third plot breaks down known ownership by owner, using number of shares held."
   ]
  },
  {
   "cell_type": "code",
   "execution_count": null,
   "metadata": {
    "collapsed": true
   },
   "outputs": [],
   "source": [
    "plt.figure(5)\n",
    "LookUp_df['Mkt_Cap'].plot(kind='line', figsize = (20,5))\n",
    "plt.legend()\n",
    "plt.title('Total Market capitalisation by value')\n",
    "\n",
    "plt.figure(6)\n",
    "LookUp_df['Shares_Outstanding'].plot(kind='line',c='g', figsize = (20,5))\n",
    "LookUp_df['Total_Shares_Held'].plot(kind='line', c= 'c', figsize = (20,5))\n",
    "plt.legend(ncol=int(len(VH_plot.columns)/5))\n",
    "plt.title('Issuance and number of shares over time')\n",
    "\n",
    "plt.figure(7)\n",
    "SH_plot.plot(kind='bar', stacked = True, color=sns.color_palette(\"spectral\",len(VH_plot.columns), desat=.5),figsize = (20,5), legend = False)\n",
    "#plt.legend(ncol=int(len(SH_plot.columns)/5))\n",
    "plt.xticks(rotation=90)\n",
    "plt.title('Number of shares owend by individual owners over time')\n",
    "plt.show()"
   ]
  },
  {
   "cell_type": "markdown",
   "metadata": {},
   "source": [
    "## Mkt_cap and Value held (claculated vs TR provided)\n",
    "\n",
    "Internal QA step. Ploting the total Value_held as given by TR and the Total Value_held as calculates using number of shares held and the price infroation data"
   ]
  },
  {
   "cell_type": "code",
   "execution_count": null,
   "metadata": {
    "collapsed": true
   },
   "outputs": [],
   "source": [
    "plt.figure()\n",
    "LookUp_df['Mkt_Cap'].plot(kind='line', figsize=(20,5))\n",
    "LookUp_df['Total_Value_Held'].plot(kind = 'line', c='r', figsize =(20,5))\n",
    "LookUp_df['Total_Value_Held_Calc'].plot(kind = 'line', c='c', figsize =(20,5))\n",
    "plt.legend(ncol=int(len(LookUp_df.columns)/5))\n",
    "plt.title('Market Capitaisation by value and value held')\n",
    "plt.show()"
   ]
  },
  {
   "cell_type": "markdown",
   "metadata": {},
   "source": [
    "## Count of owners"
   ]
  },
  {
   "cell_type": "code",
   "execution_count": null,
   "metadata": {
    "collapsed": true
   },
   "outputs": [],
   "source": [
    "plt.figure()\n",
    "LookUp_df['Total_Owners'].plot(kind='line', figsize = (20,5))\n",
    "LookUp_df['UK_Owners'].plot(kind='line', c='c', figsize = (20,5))\n",
    "LookUp_df['NonUK_Owners'].plot(kind='line',c= 'b', figsize = (20,5))\n",
    "plt.legend(ncol=int(len(LookUp_df.columns)/5))\n",
    "plt.title('Count of owners for the security')\n",
    "plt.show()"
   ]
  },
  {
   "cell_type": "markdown",
   "metadata": {},
   "source": [
    "## Distribution of owner type over time"
   ]
  },
  {
   "cell_type": "code",
   "execution_count": null,
   "metadata": {
    "collapsed": true
   },
   "outputs": [],
   "source": []
  },
  {
   "cell_type": "markdown",
   "metadata": {},
   "source": [
    "# Per Security geographically distribution (UK and ROW)"
   ]
  },
  {
   "cell_type": "markdown",
   "metadata": {},
   "source": [
    "## Distribution of Value Held by UK or ROW\n"
   ]
  },
  {
   "cell_type": "code",
   "execution_count": null,
   "metadata": {
    "collapsed": true,
    "scrolled": false
   },
   "outputs": [],
   "source": [
    "plot_df = LookUp_df[['UK_Value_Held_Calc',\n",
    "                'NonUK_Value_Held_Calc']]\n",
    "plt.figure()\n",
    "LookUp_df['Mkt_Cap'].plot(kind = 'line', figsize=(20,5))\n",
    "plt.legend(ncol=int(len(LookUp_df.columns)/5))\n",
    "plt.title('Security Market capitalisation by value')\n",
    "plot_df.plot(kind='bar', stacked = True, figsize=(20,5))\n",
    "plt.legend(ncol=int(len(LookUp_df.columns)/5))\n",
    "plt.title('value of security held by the UK and ROW')\n",
    "plt.show()"
   ]
  },
  {
   "cell_type": "markdown",
   "metadata": {},
   "source": [
    "## Distribution of number of shares held by UK and ROW"
   ]
  },
  {
   "cell_type": "code",
   "execution_count": null,
   "metadata": {
    "collapsed": true
   },
   "outputs": [],
   "source": [
    "plot_df = LookUp_df[['UK_Shares_Held',\n",
    "                'NonUK_Shares_Held']]\n",
    "plt.figure()\n",
    "LookUp_df['Shares_Outstanding'].plot(kind = 'line', figsize=(20,5))\n",
    "plt.legend(ncol=int(len(LookUp_df.columns)/5))\n",
    "plt.title('Total shares outstanding')\n",
    "plot_df.plot(kind='bar', stacked = True, figsize=(20,5))\n",
    "plt.legend(ncol=int(len(LookUp_df.columns)/5))\n",
    "plt.title('Shears held bu UK and Non UK Owners')\n",
    "plt.show()"
   ]
  },
  {
   "cell_type": "code",
   "execution_count": null,
   "metadata": {
    "collapsed": true
   },
   "outputs": [],
   "source": [
    "#plt.figure(5)\n",
    "#fig, axes = plt.subplots(nrows = 2, ncols = 1)\n",
    "#LookUp_df['Shares_Outstanding'].plot(ax = axes[0], kind='line')\n",
    "#LookUp_df['Issuer_Price'].plot(ax = axes[1],kind='Line')"
   ]
  }
 ],
 "metadata": {
  "kernelspec": {
   "display_name": "Python 3",
   "language": "python",
   "name": "python3"
  },
  "language_info": {
   "codemirror_mode": {
    "name": "ipython",
    "version": 3
   },
   "file_extension": ".py",
   "mimetype": "text/x-python",
   "name": "python",
   "nbconvert_exporter": "python",
   "pygments_lexer": "ipython3",
   "version": "3.6.1"
  }
 },
 "nbformat": 4,
 "nbformat_minor": 2
}
